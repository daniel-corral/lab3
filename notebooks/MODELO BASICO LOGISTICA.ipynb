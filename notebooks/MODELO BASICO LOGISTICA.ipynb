{
 "cells": [
  {
   "cell_type": "markdown",
   "metadata": {},
   "source": [
    "## 6. Logistic Model"
   ]
  },
  {
   "cell_type": "markdown",
   "metadata": {},
   "source": [
    "Simple Logistic Regression, developed by David Cox in 1958, is a regression method that allows us to estimate the probability of a binary qualitative variable as a function of a quantitative variable. One of the main applications of logistic regression is binary classification, in which observations are classified into one group or another depending on the value taken by the variable used as a predictor.  In our case, to estimate if a client is going to pay us the loan or not."
   ]
  },
  {
   "cell_type": "code",
   "execution_count": 3,
   "metadata": {},
   "outputs": [],
   "source": [
    "import numpy as np\n",
    "import pandas as pd\n",
    "import matplotlib\n",
    "from matplotlib import pyplot as plt # plots\n",
    "import seaborn as sns # plots\n",
    "from scipy import stats as sts # normality test JB\n",
    "from sklearn import model_selection\n",
    "from sklearn import linear_model\n",
    "from sklearn import metrics\n",
    "from sklearn.linear_model import Ridge, RidgeCV # Ridge\n",
    "from sklearn.linear_model import Lasso, LassoCV # Lasso\n",
    "from sklearn.linear_model import LogisticRegression # Log Regression\n",
    "from sklearn.metrics import r2_score # R^2\n",
    "from sklearn.model_selection import train_test_split # split data\n",
    "from sklearn.model_selection import GridSearchCV\n",
    "from sklearn.metrics import mean_squared_error # MSE\n",
    "from sklearn.preprocessing import StandardScaler # estandarization\n",
    "from sklearn import preprocessing # estandarization\n",
    "from sklearn.ensemble import IsolationForest # outliers\n",
    "from math import sqrt # sqrt\n",
    "import itertools # aplanar arrays\n",
    "import math\n",
    "from imblearn.over_sampling import SMOTE\n",
    "from sklearn.svm import SVC # SVM\n",
    "from sklearn.metrics import classification_report, confusion_matrix\n",
    "from sklearn.ensemble import RandomForestRegressor, RandomForestClassifier\n",
    "from sklearn.metrics import roc_curve, roc_auc_score, plot_roc_curve # ROC Curve\n",
    "from sklearn.datasets import make_classification\n",
    "import random\n",
    "random.seed(12345)\n",
    "from sklearn.impute import KNNImputer"
   ]
  },
  {
   "cell_type": "markdown",
   "metadata": {},
   "source": [
    "We load the final data after cleaning them."
   ]
  },
  {
   "cell_type": "code",
   "execution_count": 4,
   "metadata": {},
   "outputs": [
    {
     "data": {
      "text/html": [
       "<div>\n",
       "<style scoped>\n",
       "    .dataframe tbody tr th:only-of-type {\n",
       "        vertical-align: middle;\n",
       "    }\n",
       "\n",
       "    .dataframe tbody tr th {\n",
       "        vertical-align: top;\n",
       "    }\n",
       "\n",
       "    .dataframe thead th {\n",
       "        text-align: right;\n",
       "    }\n",
       "</style>\n",
       "<table border=\"1\" class=\"dataframe\">\n",
       "  <thead>\n",
       "    <tr style=\"text-align: right;\">\n",
       "      <th></th>\n",
       "      <th>application_type_Joint App</th>\n",
       "      <th>('installment',)</th>\n",
       "      <th>term_ 60 months</th>\n",
       "      <th>('dti',)</th>\n",
       "      <th>('fico_range_low',)</th>\n",
       "      <th>('acc_now_delinq',)</th>\n",
       "      <th>('num_rev_accts',)</th>\n",
       "      <th>('num_il_tl',)</th>\n",
       "      <th>('mo_sin_old_rev_tl_op',)</th>\n",
       "      <th>('num_sats',)</th>\n",
       "      <th>...</th>\n",
       "      <th>('total_il_high_credit_limit',)</th>\n",
       "      <th>('int_rate',)</th>\n",
       "      <th>('total_acc',)</th>\n",
       "      <th>('loan_amnt',)</th>\n",
       "      <th>home_ownership_RENT</th>\n",
       "      <th>home_ownership_OWN</th>\n",
       "      <th>home_ownership_MORTAGE&amp;OTHER</th>\n",
       "      <th>('last_fico_range_high',)</th>\n",
       "      <th>('tot_cur_bal',)</th>\n",
       "      <th>paid</th>\n",
       "    </tr>\n",
       "  </thead>\n",
       "  <tbody>\n",
       "    <tr>\n",
       "      <th>0</th>\n",
       "      <td>0</td>\n",
       "      <td>-0.066182</td>\n",
       "      <td>0</td>\n",
       "      <td>-0.076735</td>\n",
       "      <td>1.000000</td>\n",
       "      <td>0.0</td>\n",
       "      <td>1.8</td>\n",
       "      <td>0.625</td>\n",
       "      <td>0.982143</td>\n",
       "      <td>1.500000</td>\n",
       "      <td>...</td>\n",
       "      <td>2.167452</td>\n",
       "      <td>-0.9024</td>\n",
       "      <td>1.3750</td>\n",
       "      <td>-0.085417</td>\n",
       "      <td>0</td>\n",
       "      <td>1</td>\n",
       "      <td>0</td>\n",
       "      <td>0.318182</td>\n",
       "      <td>2.045887</td>\n",
       "      <td>0</td>\n",
       "    </tr>\n",
       "    <tr>\n",
       "      <th>1</th>\n",
       "      <td>0</td>\n",
       "      <td>-0.293676</td>\n",
       "      <td>0</td>\n",
       "      <td>-0.968163</td>\n",
       "      <td>0.000000</td>\n",
       "      <td>0.0</td>\n",
       "      <td>-1.1</td>\n",
       "      <td>-0.750</td>\n",
       "      <td>0.062500</td>\n",
       "      <td>-1.166667</td>\n",
       "      <td>...</td>\n",
       "      <td>-0.674537</td>\n",
       "      <td>1.8976</td>\n",
       "      <td>-1.1875</td>\n",
       "      <td>-0.450000</td>\n",
       "      <td>1</td>\n",
       "      <td>0</td>\n",
       "      <td>0</td>\n",
       "      <td>-0.181818</td>\n",
       "      <td>-0.416741</td>\n",
       "      <td>0</td>\n",
       "    </tr>\n",
       "    <tr>\n",
       "      <th>2</th>\n",
       "      <td>0</td>\n",
       "      <td>-0.457306</td>\n",
       "      <td>0</td>\n",
       "      <td>-0.392653</td>\n",
       "      <td>0.714286</td>\n",
       "      <td>0.0</td>\n",
       "      <td>0.1</td>\n",
       "      <td>0.125</td>\n",
       "      <td>-1.017857</td>\n",
       "      <td>1.333333</td>\n",
       "      <td>...</td>\n",
       "      <td>0.013921</td>\n",
       "      <td>-0.9024</td>\n",
       "      <td>0.1875</td>\n",
       "      <td>-0.425000</td>\n",
       "      <td>0</td>\n",
       "      <td>0</td>\n",
       "      <td>1</td>\n",
       "      <td>0.272727</td>\n",
       "      <td>1.109212</td>\n",
       "      <td>0</td>\n",
       "    </tr>\n",
       "    <tr>\n",
       "      <th>3</th>\n",
       "      <td>0</td>\n",
       "      <td>-0.424834</td>\n",
       "      <td>1</td>\n",
       "      <td>-0.638367</td>\n",
       "      <td>0.142857</td>\n",
       "      <td>0.0</td>\n",
       "      <td>0.3</td>\n",
       "      <td>-0.375</td>\n",
       "      <td>-0.991071</td>\n",
       "      <td>0.666667</td>\n",
       "      <td>...</td>\n",
       "      <td>-0.637968</td>\n",
       "      <td>0.4848</td>\n",
       "      <td>-0.1875</td>\n",
       "      <td>-0.216667</td>\n",
       "      <td>1</td>\n",
       "      <td>0</td>\n",
       "      <td>0</td>\n",
       "      <td>-0.272727</td>\n",
       "      <td>-0.386501</td>\n",
       "      <td>0</td>\n",
       "    </tr>\n",
       "    <tr>\n",
       "      <th>4</th>\n",
       "      <td>0</td>\n",
       "      <td>0.345384</td>\n",
       "      <td>0</td>\n",
       "      <td>-0.577143</td>\n",
       "      <td>0.000000</td>\n",
       "      <td>0.0</td>\n",
       "      <td>-0.8</td>\n",
       "      <td>-0.500</td>\n",
       "      <td>-0.607143</td>\n",
       "      <td>-1.166667</td>\n",
       "      <td>...</td>\n",
       "      <td>-0.032839</td>\n",
       "      <td>0.4848</td>\n",
       "      <td>-0.8750</td>\n",
       "      <td>0.116667</td>\n",
       "      <td>0</td>\n",
       "      <td>0</td>\n",
       "      <td>1</td>\n",
       "      <td>-0.045455</td>\n",
       "      <td>0.270862</td>\n",
       "      <td>0</td>\n",
       "    </tr>\n",
       "    <tr>\n",
       "      <th>...</th>\n",
       "      <td>...</td>\n",
       "      <td>...</td>\n",
       "      <td>...</td>\n",
       "      <td>...</td>\n",
       "      <td>...</td>\n",
       "      <td>...</td>\n",
       "      <td>...</td>\n",
       "      <td>...</td>\n",
       "      <td>...</td>\n",
       "      <td>...</td>\n",
       "      <td>...</td>\n",
       "      <td>...</td>\n",
       "      <td>...</td>\n",
       "      <td>...</td>\n",
       "      <td>...</td>\n",
       "      <td>...</td>\n",
       "      <td>...</td>\n",
       "      <td>...</td>\n",
       "      <td>...</td>\n",
       "      <td>...</td>\n",
       "      <td>...</td>\n",
       "    </tr>\n",
       "    <tr>\n",
       "      <th>462221</th>\n",
       "      <td>0</td>\n",
       "      <td>0.074068</td>\n",
       "      <td>0</td>\n",
       "      <td>0.746939</td>\n",
       "      <td>-0.142857</td>\n",
       "      <td>0.0</td>\n",
       "      <td>-0.1</td>\n",
       "      <td>-0.250</td>\n",
       "      <td>0.169643</td>\n",
       "      <td>-0.333333</td>\n",
       "      <td>...</td>\n",
       "      <td>-0.729001</td>\n",
       "      <td>0.4160</td>\n",
       "      <td>-0.3750</td>\n",
       "      <td>-0.085417</td>\n",
       "      <td>1</td>\n",
       "      <td>0</td>\n",
       "      <td>0</td>\n",
       "      <td>0.045455</td>\n",
       "      <td>-0.336689</td>\n",
       "      <td>0</td>\n",
       "    </tr>\n",
       "    <tr>\n",
       "      <th>462222</th>\n",
       "      <td>0</td>\n",
       "      <td>0.055234</td>\n",
       "      <td>0</td>\n",
       "      <td>0.470204</td>\n",
       "      <td>0.000000</td>\n",
       "      <td>0.0</td>\n",
       "      <td>0.6</td>\n",
       "      <td>4.125</td>\n",
       "      <td>0.607143</td>\n",
       "      <td>0.333333</td>\n",
       "      <td>...</td>\n",
       "      <td>1.620201</td>\n",
       "      <td>-0.1600</td>\n",
       "      <td>2.3125</td>\n",
       "      <td>-0.050000</td>\n",
       "      <td>0</td>\n",
       "      <td>0</td>\n",
       "      <td>1</td>\n",
       "      <td>-0.545455</td>\n",
       "      <td>0.886921</td>\n",
       "      <td>1</td>\n",
       "    </tr>\n",
       "    <tr>\n",
       "      <th>462223</th>\n",
       "      <td>0</td>\n",
       "      <td>-0.199753</td>\n",
       "      <td>1</td>\n",
       "      <td>1.058776</td>\n",
       "      <td>-0.142857</td>\n",
       "      <td>0.0</td>\n",
       "      <td>-0.4</td>\n",
       "      <td>0.625</td>\n",
       "      <td>-0.508929</td>\n",
       "      <td>-0.333333</td>\n",
       "      <td>...</td>\n",
       "      <td>0.038300</td>\n",
       "      <td>0.4800</td>\n",
       "      <td>-0.1250</td>\n",
       "      <td>0.033333</td>\n",
       "      <td>1</td>\n",
       "      <td>0</td>\n",
       "      <td>0</td>\n",
       "      <td>-1.090909</td>\n",
       "      <td>-0.255680</td>\n",
       "      <td>1</td>\n",
       "    </tr>\n",
       "    <tr>\n",
       "      <th>462224</th>\n",
       "      <td>0</td>\n",
       "      <td>-0.194217</td>\n",
       "      <td>1</td>\n",
       "      <td>0.755918</td>\n",
       "      <td>0.285714</td>\n",
       "      <td>0.0</td>\n",
       "      <td>0.2</td>\n",
       "      <td>-0.500</td>\n",
       "      <td>-0.732143</td>\n",
       "      <td>1.000000</td>\n",
       "      <td>...</td>\n",
       "      <td>0.932547</td>\n",
       "      <td>1.1200</td>\n",
       "      <td>-0.2500</td>\n",
       "      <td>-0.050000</td>\n",
       "      <td>1</td>\n",
       "      <td>0</td>\n",
       "      <td>0</td>\n",
       "      <td>-1.727273</td>\n",
       "      <td>-0.119125</td>\n",
       "      <td>1</td>\n",
       "    </tr>\n",
       "    <tr>\n",
       "      <th>462225</th>\n",
       "      <td>0</td>\n",
       "      <td>0.876883</td>\n",
       "      <td>0</td>\n",
       "      <td>-0.579592</td>\n",
       "      <td>-0.285714</td>\n",
       "      <td>0.0</td>\n",
       "      <td>-0.7</td>\n",
       "      <td>-0.750</td>\n",
       "      <td>-0.089286</td>\n",
       "      <td>-0.500000</td>\n",
       "      <td>...</td>\n",
       "      <td>-0.772056</td>\n",
       "      <td>-0.1600</td>\n",
       "      <td>-0.8750</td>\n",
       "      <td>0.616667</td>\n",
       "      <td>1</td>\n",
       "      <td>0</td>\n",
       "      <td>0</td>\n",
       "      <td>0.090909</td>\n",
       "      <td>-0.260587</td>\n",
       "      <td>0</td>\n",
       "    </tr>\n",
       "  </tbody>\n",
       "</table>\n",
       "<p>462226 rows × 23 columns</p>\n",
       "</div>"
      ],
      "text/plain": [
       "        application_type_Joint App  ('installment',)  term_ 60 months  \\\n",
       "0                                0         -0.066182                0   \n",
       "1                                0         -0.293676                0   \n",
       "2                                0         -0.457306                0   \n",
       "3                                0         -0.424834                1   \n",
       "4                                0          0.345384                0   \n",
       "...                            ...               ...              ...   \n",
       "462221                           0          0.074068                0   \n",
       "462222                           0          0.055234                0   \n",
       "462223                           0         -0.199753                1   \n",
       "462224                           0         -0.194217                1   \n",
       "462225                           0          0.876883                0   \n",
       "\n",
       "        ('dti',)  ('fico_range_low',)  ('acc_now_delinq',)  \\\n",
       "0      -0.076735             1.000000                  0.0   \n",
       "1      -0.968163             0.000000                  0.0   \n",
       "2      -0.392653             0.714286                  0.0   \n",
       "3      -0.638367             0.142857                  0.0   \n",
       "4      -0.577143             0.000000                  0.0   \n",
       "...          ...                  ...                  ...   \n",
       "462221  0.746939            -0.142857                  0.0   \n",
       "462222  0.470204             0.000000                  0.0   \n",
       "462223  1.058776            -0.142857                  0.0   \n",
       "462224  0.755918             0.285714                  0.0   \n",
       "462225 -0.579592            -0.285714                  0.0   \n",
       "\n",
       "        ('num_rev_accts',)  ('num_il_tl',)  ('mo_sin_old_rev_tl_op',)  \\\n",
       "0                      1.8           0.625                   0.982143   \n",
       "1                     -1.1          -0.750                   0.062500   \n",
       "2                      0.1           0.125                  -1.017857   \n",
       "3                      0.3          -0.375                  -0.991071   \n",
       "4                     -0.8          -0.500                  -0.607143   \n",
       "...                    ...             ...                        ...   \n",
       "462221                -0.1          -0.250                   0.169643   \n",
       "462222                 0.6           4.125                   0.607143   \n",
       "462223                -0.4           0.625                  -0.508929   \n",
       "462224                 0.2          -0.500                  -0.732143   \n",
       "462225                -0.7          -0.750                  -0.089286   \n",
       "\n",
       "        ('num_sats',)  ...  ('total_il_high_credit_limit',)  ('int_rate',)  \\\n",
       "0            1.500000  ...                         2.167452        -0.9024   \n",
       "1           -1.166667  ...                        -0.674537         1.8976   \n",
       "2            1.333333  ...                         0.013921        -0.9024   \n",
       "3            0.666667  ...                        -0.637968         0.4848   \n",
       "4           -1.166667  ...                        -0.032839         0.4848   \n",
       "...               ...  ...                              ...            ...   \n",
       "462221      -0.333333  ...                        -0.729001         0.4160   \n",
       "462222       0.333333  ...                         1.620201        -0.1600   \n",
       "462223      -0.333333  ...                         0.038300         0.4800   \n",
       "462224       1.000000  ...                         0.932547         1.1200   \n",
       "462225      -0.500000  ...                        -0.772056        -0.1600   \n",
       "\n",
       "        ('total_acc',)  ('loan_amnt',)  home_ownership_RENT  \\\n",
       "0               1.3750       -0.085417                    0   \n",
       "1              -1.1875       -0.450000                    1   \n",
       "2               0.1875       -0.425000                    0   \n",
       "3              -0.1875       -0.216667                    1   \n",
       "4              -0.8750        0.116667                    0   \n",
       "...                ...             ...                  ...   \n",
       "462221         -0.3750       -0.085417                    1   \n",
       "462222          2.3125       -0.050000                    0   \n",
       "462223         -0.1250        0.033333                    1   \n",
       "462224         -0.2500       -0.050000                    1   \n",
       "462225         -0.8750        0.616667                    1   \n",
       "\n",
       "        home_ownership_OWN  home_ownership_MORTAGE&OTHER  \\\n",
       "0                        1                             0   \n",
       "1                        0                             0   \n",
       "2                        0                             1   \n",
       "3                        0                             0   \n",
       "4                        0                             1   \n",
       "...                    ...                           ...   \n",
       "462221                   0                             0   \n",
       "462222                   0                             1   \n",
       "462223                   0                             0   \n",
       "462224                   0                             0   \n",
       "462225                   0                             0   \n",
       "\n",
       "        ('last_fico_range_high',)  ('tot_cur_bal',)  paid  \n",
       "0                        0.318182          2.045887     0  \n",
       "1                       -0.181818         -0.416741     0  \n",
       "2                        0.272727          1.109212     0  \n",
       "3                       -0.272727         -0.386501     0  \n",
       "4                       -0.045455          0.270862     0  \n",
       "...                           ...               ...   ...  \n",
       "462221                   0.045455         -0.336689     0  \n",
       "462222                  -0.545455          0.886921     1  \n",
       "462223                  -1.090909         -0.255680     1  \n",
       "462224                  -1.727273         -0.119125     1  \n",
       "462225                   0.090909         -0.260587     0  \n",
       "\n",
       "[462226 rows x 23 columns]"
      ]
     },
     "execution_count": 4,
     "metadata": {},
     "output_type": "execute_result"
    }
   ],
   "source": [
    "data1 = pd.read_csv('../data/modeldata.csv')\n",
    "data = data1.drop('Unnamed: 0',1)\n",
    "data"
   ]
  },
  {
   "cell_type": "markdown",
   "metadata": {},
   "source": [
    "Our \"paid\" variable (which take value 0 if the clients comply with the payments, and 1 if the clients have been delayed at some time) is selected as an endogenous variable."
   ]
  },
  {
   "cell_type": "code",
   "execution_count": 5,
   "metadata": {},
   "outputs": [],
   "source": [
    "endogena = ['paid'] \n",
    "\n",
    "\n",
    "exogenas = list(set(list(data.columns))-set(endogena))\n",
    "\n",
    "X = data[exogenas].values\n",
    "Y = data[endogena].values"
   ]
  },
  {
   "cell_type": "markdown",
   "metadata": {},
   "source": [
    "To make the models we have divided the dataset in two parts: \"train\" and \"test\" and also as the dataset is unbalanced, we have added the function \"SMOTE\" in order to fix this problem."
   ]
  },
  {
   "cell_type": "code",
   "execution_count": 6,
   "metadata": {},
   "outputs": [
    {
     "name": "stdout",
     "output_type": "stream",
     "text": [
      "(386909, 22)\n",
      "(92446, 22)\n"
     ]
    }
   ],
   "source": [
    "X_train, X_test, Y_train, Y_test = train_test_split(X, Y, test_size=0.20, random_state=40)\n",
    "sm = SMOTE(random_state=40, sampling_strategy = 0.4)\n",
    "X_train, Y_train = sm.fit_sample(X_train, Y_train)\n",
    "print(X_train.shape); print(X_test.shape)"
   ]
  },
  {
   "cell_type": "code",
   "execution_count": 13,
   "metadata": {},
   "outputs": [],
   "source": [
    "ytrain_df = pd.DataFrame(Y_train, columns = ['paid'])\n",
    "ytest_df = pd.DataFrame(Y_test, columns = ['paid'])"
   ]
  },
  {
   "cell_type": "code",
   "execution_count": 14,
   "metadata": {},
   "outputs": [
    {
     "data": {
      "text/plain": [
       "0    0.714287\n",
       "1    0.285713\n",
       "Name: paid, dtype: float64"
      ]
     },
     "execution_count": 14,
     "metadata": {},
     "output_type": "execute_result"
    }
   ],
   "source": [
    "ytrain_df['paid'].value_counts(normalize=True)"
   ]
  },
  {
   "cell_type": "code",
   "execution_count": 15,
   "metadata": {},
   "outputs": [
    {
     "data": {
      "text/plain": [
       "0    0.74755\n",
       "1    0.25245\n",
       "Name: paid, dtype: float64"
      ]
     },
     "execution_count": 15,
     "metadata": {},
     "output_type": "execute_result"
    }
   ],
   "source": [
    "ytest_df['paid'].value_counts(normalize=True)"
   ]
  },
  {
   "cell_type": "code",
   "execution_count": 16,
   "metadata": {},
   "outputs": [
    {
     "name": "stdout",
     "output_type": "stream",
     "text": [
      "Wall time: 53.8 s\n"
     ]
    }
   ],
   "source": [
    "%%time\n",
    "logit_loan = LogisticRegression(random_state=40, solver=\"saga\", penalty=\"l1\", class_weight=\"balanced\", C=1.0, max_iter=500)\n",
    "logit_loan.fit(X_train, Y_train)\n",
    "logit_probs = logit_loan.predict_proba(X_train)\n",
    "logit_scores = logit_probs[:,1]"
   ]
  },
  {
   "cell_type": "code",
   "execution_count": 17,
   "metadata": {},
   "outputs": [
    {
     "name": "stdout",
     "output_type": "stream",
     "text": [
      "[[62089  7019]\n",
      " [ 3000 20338]]\n",
      "              precision    recall  f1-score   support\n",
      "\n",
      "           0       0.95      0.90      0.93     69108\n",
      "           1       0.74      0.87      0.80     23338\n",
      "\n",
      "    accuracy                           0.89     92446\n",
      "   macro avg       0.85      0.88      0.86     92446\n",
      "weighted avg       0.90      0.89      0.89     92446\n",
      "\n"
     ]
    }
   ],
   "source": [
    "pred_logit = logit_loan.predict(X_test)\n",
    "print(confusion_matrix(Y_test, pred_logit))\n",
    "print(classification_report(Y_test, pred_logit))"
   ]
  },
  {
   "cell_type": "markdown",
   "metadata": {},
   "source": [
    "We found 95% accuracy for those who will pay and 74% accuracy for those who will not pay."
   ]
  },
  {
   "cell_type": "code",
   "execution_count": 18,
   "metadata": {},
   "outputs": [
    {
     "data": {
      "image/png": "[encoded data removed]",
      "text/plain": [
       "<Figure size 432x288 with 1 Axes>"
      ]
     },
     "metadata": {
      "needs_background": "light"
     },
     "output_type": "display_data"
    },
    {
     "name": "stdout",
     "output_type": "stream",
     "text": [
      "Logistic Regression score train:  0.8921451814250896\n",
      "Logistic Regression score:  0.8916232178785453\n"
     ]
    }
   ],
   "source": [
    "metrics.plot_roc_curve(logit_loan, X_test, Y_test)\n",
    "plt.show()                     \n",
    "print(\"Logistic Regression score train: \", logit_loan.score(X_train, Y_train))\n",
    "print(\"Logistic Regression score: \", logit_loan.score(X_test, Y_test))"
   ]
  },
  {
   "cell_type": "markdown",
   "metadata": {},
   "source": [
    "We have an Area Under the Curve(AUC) of 94%."
   ]
  },
  {
   "cell_type": "code",
   "execution_count": null,
   "metadata": {},
   "outputs": [],
   "source": []
  },
  {
   "cell_type": "code",
   "execution_count": 19,
   "metadata": {},
   "outputs": [],
   "source": [
    "import pickle"
   ]
  },
  {
   "cell_type": "code",
   "execution_count": 40,
   "metadata": {},
   "outputs": [],
   "source": [
    "from numpy import loadtxt\n",
    "from xgboost import XGBClassifier\n",
    "from sklearn.model_selection import train_test_split\n",
    "from sklearn.metrics import accuracy_score"
   ]
  },
  {
   "cell_type": "code",
   "execution_count": 28,
   "metadata": {},
   "outputs": [],
   "source": [
    "filename = 'logit_loan.sav'\n",
    "pickle.dump(logit_loan, open(filename, 'wb'))"
   ]
  },
  {
   "cell_type": "code",
   "execution_count": 29,
   "metadata": {},
   "outputs": [
    {
     "data": {
      "text/plain": [
       "LogisticRegression(class_weight='balanced', max_iter=500, penalty='l1',\n",
       "                   random_state=40, solver='saga')"
      ]
     },
     "execution_count": 29,
     "metadata": {},
     "output_type": "execute_result"
    }
   ],
   "source": [
    "logic_model = pickle.load(open('logit_loan.sav', 'rb'))\n",
    "logic_model"
   ]
  },
  {
   "cell_type": "code",
   "execution_count": 51,
   "metadata": {},
   "outputs": [
    {
     "name": "stdout",
     "output_type": "stream",
     "text": [
      "Acurracy :  89.16232178785452\n"
     ]
    }
   ],
   "source": [
    "a = logic_model.score(X_test, Y_test)\n",
    "print(\"Acurracy : \" , a*100)"
   ]
  }
 ],
 "metadata": {
  "kernelspec": {
   "display_name": "Python (lending)",
   "language": "python",
   "name": "lending"
  },
  "language_info": {
   "codemirror_mode": {
    "name": "ipython",
    "version": 3
   },
   "file_extension": ".py",
   "mimetype": "text/x-python",
   "name": "python",
   "nbconvert_exporter": "python",
   "pygments_lexer": "ipython3",
   "version": "3.8.5"
  }
 },
 "nbformat": 4,
 "nbformat_minor": 4
}
